{
 "cells": [
  {
   "cell_type": "code",
   "execution_count": 8,
   "metadata": {},
   "outputs": [],
   "source": [
    "import pandas\n",
    "import numpy\n",
    "import seaborn\n",
    "import scipy"
   ]
  },
  {
   "cell_type": "code",
   "execution_count": 9,
   "metadata": {},
   "outputs": [
    {
     "name": "stdout",
     "output_type": "stream",
     "text": [
      "Versão do Pandas: 1.4.1\n",
      "Versão do numpy: 1.22.3\n",
      "Versão do seaborn: 0.11.2\n",
      "Versão do scipy: 1.8.0\n"
     ]
    }
   ],
   "source": [
    "print('Versão do Pandas: ' + pandas.__version__)\n",
    "print('Versão do numpy: ' + numpy.__version__)\n",
    "print('Versão do seaborn: ' + seaborn.__version__)\n",
    "print('Versão do scipy: ' + scipy.__version__)"
   ]
  }
 ],
 "metadata": {
  "interpreter": {
   "hash": "fd9403898a8711417cbecf3c141461b22ed03d4cbd804c46b5d303f409a95783"
  },
  "kernelspec": {
   "display_name": "Python 3.10.2 64-bit (windows store)",
   "language": "python",
   "name": "python3"
  },
  "language_info": {
   "codemirror_mode": {
    "name": "ipython",
    "version": 3
   },
   "file_extension": ".py",
   "mimetype": "text/x-python",
   "name": "python",
   "nbconvert_exporter": "python",
   "pygments_lexer": "ipython3",
   "version": "3.9.10"
  },
  "orig_nbformat": 4
 },
 "nbformat": 4,
 "nbformat_minor": 2
}
